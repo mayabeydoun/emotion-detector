{
  "cells": [
    {
      "cell_type": "code",
      "execution_count": 2,
      "metadata": {
        "colab": {
          "base_uri": "https://localhost:8080/"
        },
        "id": "W-5rElzstu6f",
        "outputId": "9e72d81e-7a18-4703-9d2f-a10f995c4e21"
      },
      "outputs": [
        {
          "name": "stdout",
          "output_type": "stream",
          "text": [
            "Requirement already satisfied: torchsummary in /usr/local/lib/python3.10/dist-packages (1.5.1)\n"
          ]
        }
      ],
      "source": [
        "# Run the command in the terminal if it failed on local Jupyter Notebook, remove \"!\" before each line\n",
        "!pip install torchsummary"
      ]
    },
    {
      "cell_type": "code",
      "execution_count": 3,
      "metadata": {
        "id": "mc2dzDlI_-6x"
      },
      "outputs": [],
      "source": [
        "import numpy as np\n",
        "import pandas as pd\n",
        "import matplotlib.pyplot as plt\n",
        "from tqdm import tqdm\n",
        "import torch\n",
        "from torch import nn, optim\n",
        "import torch.nn.functional as F\n",
        "from torch.utils.data import Dataset, DataLoader, random_split\n",
        "from torchvision import datasets, transforms\n",
        "from torchsummary import summary\n",
        "from torch.optim.lr_scheduler import StepLR\n",
        "import os\n",
        "from google.colab import files\n",
        "from torch.optim.lr_scheduler import ReduceLROnPlateau"
      ]
    },
    {
      "cell_type": "code",
      "execution_count": 4,
      "metadata": {
        "colab": {
          "base_uri": "https://localhost:8080/"
        },
        "id": "WvC_h1RpCuXN",
        "outputId": "7530d432-2e22-4a76-871d-30fe8b56cbcb"
      },
      "outputs": [
        {
          "name": "stdout",
          "output_type": "stream",
          "text": [
            "Using the GPU. You are good to go!\n"
          ]
        }
      ],
      "source": [
        "if torch.cuda.is_available():\n",
        "    print(\"Using the GPU. You are good to go!\")\n",
        "    device = 'cuda'\n",
        "else:\n",
        "    print(\"Using the CPU. Overall speed may be slowed down\")\n",
        "    device = 'cpu'"
      ]
    },
    {
      "cell_type": "code",
      "execution_count": 5,
      "metadata": {
        "id": "gKOW80jUjTN4"
      },
      "outputs": [],
      "source": [
        "from sklearn.model_selection import train_test_split\n",
        "\n",
        "transform = transforms.Compose([\n",
        "    transforms.ToPILImage(),\n",
        "    transforms.Grayscale(),\n",
        "    transforms.ToTensor(),\n",
        "])\n",
        "\n",
        "\n",
        "class FER2013Dataset(Dataset):\n",
        "    def __init__(self, images, labels, transform=None):\n",
        "        self.images = images\n",
        "        self.labels = labels\n",
        "        self.transform = transform\n",
        "\n",
        "    def __len__(self):\n",
        "        return len(self.images)\n",
        "\n",
        "    def __getitem__(self, idx):\n",
        "        image = self.images[idx]\n",
        "        label = self.labels[idx]\n",
        "\n",
        "        image = image.squeeze()\n",
        "        if image.ndim == 2:\n",
        "            image = np.expand_dims(image, axis=0)\n",
        "        image = np.transpose(image, (1, 2, 0))\n",
        "        if self.transform:\n",
        "            image = self.transform(image)\n",
        "        return image, label\n",
        "\n",
        "\n",
        "\n",
        "def load_data(csv_file):\n",
        "    df = pd.read_csv(csv_file)\n",
        "    df['pixels'] = df['pixels'].apply(lambda pixel_sequence: [int(pixel) for pixel in pixel_sequence.split()])\n",
        "    df = df[df['pixels'].apply(len) == 2304]\n",
        "    X = np.array(df['pixels'].tolist(), dtype=np.float32).reshape(-1, 48, 48)\n",
        "    X = np.expand_dims(X, 1)\n",
        "    y = df['emotion'].values\n",
        "\n",
        "    emotion_counts = df['emotion'].value_counts()\n",
        "    emotion_counts = emotion_counts.sort_index()\n",
        "\n",
        "    emotion_names = ['Anger', 'Disgust', 'Fear', 'Happy', 'Sad', 'Surprise', 'Neutral']\n",
        "    bar_colors = ['red', 'green', 'blue', 'yellow', 'purple', 'orange', 'pink']\n",
        "\n",
        "    plt.figure(figsize=(10, 5))\n",
        "    bars = plt.bar(emotion_names, emotion_counts[emotion_counts.index], color=bar_colors)\n",
        "\n",
        "\n",
        "    for bar in bars:\n",
        "        yval = bar.get_height()\n",
        "        plt.text(bar.get_x() + bar.get_width()/2, yval, int(yval), va='bottom', ha='center', fontsize=10, rotation=0)\n",
        "\n",
        "    plt.xlabel('Emotions')\n",
        "    plt.ylabel('Number of Images')\n",
        "    plt.title('Number of Images per Emotion')\n",
        "    plt.xticks(rotation=45)\n",
        "    plt.show()\n",
        "\n",
        "\n",
        "    return X, y\n",
        "\n",
        "def create_dataloaders(X, y, batch_size=512):\n",
        "    # split the data into training+validation and testing sets\n",
        "    X_train_val, X_test, y_train_val, y_test = train_test_split(X, y, test_size=0.2, random_state=42)\n",
        "\n",
        "    # split the training data into training and validation sets\n",
        "    X_train, X_val, y_train, y_val = train_test_split(X_train_val, y_train_val, test_size=0.2, random_state=42)  # 20% of 80% = 16% of total data\n",
        "\n",
        "    # Define transformations\n",
        "    train_transform = transforms.Compose([\n",
        "        transforms.ToPILImage(),\n",
        "        transforms.ToTensor(),\n",
        "        transforms.Normalize((0.5,), (0.5,))\n",
        "    ])\n",
        "\n",
        "    # Create datasets\n",
        "    train_dataset = FER2013Dataset(X_train, y_train, transform=train_transform)\n",
        "    val_dataset = FER2013Dataset(X_val, y_val, transform=train_transform)\n",
        "    test_dataset = FER2013Dataset(X_test, y_test, transform=train_transform)\n",
        "\n",
        "    # Create data loaders\n",
        "    train_loader = DataLoader(train_dataset, batch_size=batch_size, shuffle=True)\n",
        "    val_loader = DataLoader(val_dataset, batch_size=batch_size, shuffle=False)\n",
        "    test_loader = DataLoader(test_dataset, batch_size=batch_size, shuffle=False)\n",
        "\n",
        "    return train_loader, val_loader, test_loader\n",
        "\n"
      ]
    },
    {
      "cell_type": "code",
      "execution_count": 7,
      "metadata": {
        "id": "jUbe9pQejwtq"
      },
      "outputs": [],
      "source": [
        "class Network(nn.Module):\n",
        "    def __init__(self, num_classes=7):  # 7 emotion classes for FER2013\n",
        "        super(Network, self).__init__()\n",
        "\n",
        "        # First convolutional block\n",
        "        self.conv_block1 = nn.Sequential(\n",
        "            nn.Conv2d(1, 64, kernel_size=3, padding='same'),\n",
        "            nn.ReLU(),\n",
        "            nn.Conv2d(64, 64, kernel_size=3, padding='same'),\n",
        "            nn.ReLU(),\n",
        "            nn.BatchNorm2d(64),\n",
        "            nn.MaxPool2d(kernel_size=(3, 3), stride=2),\n",
        "            nn.Dropout(0.25)\n",
        "        )\n",
        "\n",
        "        # Second convolutional block\n",
        "        self.conv_block2 = nn.Sequential(\n",
        "            nn.Conv2d(64, 64, kernel_size=3, padding='same'),\n",
        "            nn.ReLU(),\n",
        "            nn.Conv2d(64, 64, kernel_size=3, padding='same'),\n",
        "            nn.ReLU(),\n",
        "            nn.BatchNorm2d(64),\n",
        "            nn.MaxPool2d(kernel_size=(3, 3), stride=2),\n",
        "            nn.Dropout(0.25)\n",
        "        )\n",
        "\n",
        "        # Third convolutional block\n",
        "        self.conv_block3 = nn.Sequential(\n",
        "            nn.Conv2d(64, 128, kernel_size=3, padding='same'),\n",
        "            nn.ReLU(),\n",
        "            nn.Conv2d(128, 128, kernel_size=3, padding='same'),\n",
        "            nn.ReLU(),\n",
        "            nn.BatchNorm2d(128),\n",
        "            nn.MaxPool2d(kernel_size=(3, 3), stride=2),\n",
        "            nn.Dropout(0.25)\n",
        "        )\n",
        "\n",
        "        # Fourth convolutional block\n",
        "        self.conv_block4 = nn.Sequential(\n",
        "            nn.Conv2d(128, 256, kernel_size=3, padding='same'),\n",
        "            nn.ReLU(),\n",
        "            nn.Conv2d(256, 256, kernel_size=3, padding='same'),\n",
        "            nn.ReLU(),\n",
        "            nn.BatchNorm2d(256),\n",
        "            nn.MaxPool2d(kernel_size=(3, 3), stride=2),\n",
        "            nn.Dropout(0.5)\n",
        "        )\n",
        "\n",
        "        # Fully connected layers\n",
        "        self.fc_layers = nn.Sequential(\n",
        "            nn.Flatten(),\n",
        "            nn.Linear(256 * 2 * 2, 2048),\n",
        "            nn.ReLU(),\n",
        "            nn.Dropout(0.5),\n",
        "            nn.Linear(2048, 7),\n",
        "            nn.Softmax(dim=1)\n",
        "        )\n",
        "\n",
        "    def forward(self, x):\n",
        "        x = self.conv_block1(x)\n",
        "        x = self.conv_block2(x)\n",
        "        x = self.conv_block3(x)\n",
        "        x = self.conv_block4(x)\n",
        "        x = self.fc_layers(x)\n",
        "        return x\n",
        "\n",
        "\n",
        "\n",
        "def train(model, train_loader, val_loader, criterion, optimizer, num_epochs=10, device='cpu'):\n",
        "    # history lists to keep track of loss and accuracy\n",
        "    trn_loss_hist = []\n",
        "    val_loss_hist = []\n",
        "    trn_acc_hist = []\n",
        "    val_acc_hist = []\n",
        "\n",
        "    model.train()\n",
        "\n",
        "    for epoch in range(num_epochs):\n",
        "        running_loss = []\n",
        "        running_val_loss = []\n",
        "        print(f'----------------- Epoch = {epoch+1} -----------------')\n",
        "\n",
        "        # training loop\n",
        "        for images, labels in tqdm(train_loader):\n",
        "            images, labels = images.to(device), labels.to(device)\n",
        "            optimizer.zero_grad()\n",
        "            outputs = model(images)\n",
        "            loss = criterion(outputs, labels)\n",
        "            loss.backward()\n",
        "            optimizer.step()\n",
        "            running_loss.append(loss.item())\n",
        "\n",
        "        epoch_loss = np.mean(running_loss)\n",
        "        trn_loss_hist.append(epoch_loss)\n",
        "\n",
        "        # validation loop\n",
        "        model.eval()\n",
        "        with torch.no_grad():\n",
        "            for images, labels in val_loader:\n",
        "                images, labels = images.to(device), labels.to(device)\n",
        "                outputs = model(images)\n",
        "                val_loss = criterion(outputs, labels)\n",
        "                running_val_loss.append(val_loss.item())\n",
        "\n",
        "        epoch_val_loss = np.mean(running_val_loss)\n",
        "        val_loss_hist.append(epoch_val_loss)\n",
        "        model.train()\n",
        "\n",
        "        # evaluate accuracy\n",
        "        train_accuracy = evaluate(model, train_loader, device)\n",
        "        val_accuracy = evaluate(model, val_loader, device)\n",
        "        trn_acc_hist.append(train_accuracy)\n",
        "        val_acc_hist.append(val_accuracy)\n",
        "\n",
        "        print(f\"Epoch {epoch+1}: Loss: {epoch_loss:.4f}, Val Loss: {epoch_val_loss:.4f}, Train Acc: {train_accuracy:.2f}%, Val Acc: {val_accuracy:.2f}%\")\n",
        "\n",
        "    return trn_loss_hist, val_loss_hist, trn_acc_hist, val_acc_hist\n",
        "\n",
        "def evaluate(model, loader, device):\n",
        "    model.eval()\n",
        "    correct = 0\n",
        "    total = 0\n",
        "\n",
        "    with torch.no_grad():\n",
        "        for images, labels in tqdm(loader):\n",
        "            images, labels = images.to(device), labels.to(device)\n",
        "            outputs = model(images)\n",
        "            _, predicted = torch.max(outputs, 1)\n",
        "            total += labels.size(0)\n",
        "            correct += (predicted == labels).sum().item()\n",
        "\n",
        "    accuracy = 100 * correct / total\n",
        "    return accuracy\n"
      ]
    },
    {
      "cell_type": "code",
      "execution_count": 9,
      "metadata": {
        "colab": {
          "base_uri": "https://localhost:8080/",
          "height": 541
        },
        "id": "cPti7ZG8ynSz",
        "outputId": "31630f3a-a5bc-4371-ca27-668ae53e02c7"
      },
      "outputs": [
        {
          "name": "stdout",
          "output_type": "stream",
          "text": [
            "Index(['emotion', 'pixels', 'Usage'], dtype='object')\n"
          ]
        },
        {
          "data": {
            "image/png": "[encoded data removed]",
            "text/plain": [
              "<Figure size 1000x500 with 1 Axes>"
            ]
          },
          "metadata": {},
          "output_type": "display_data"
        }
      ],
      "source": [
        "# main\n",
        "csv_file = 'fer2013.csv'\n",
        "df = pd.read_csv(csv_file)\n",
        "print(df.columns)\n",
        "X,y = load_data(csv_file)\n",
        "train_loader, val_loader, test_loader = create_dataloaders(X, y)\n",
        "\n"
      ]
    },
    {
      "cell_type": "code",
      "execution_count": null,
      "metadata": {
        "colab": {
          "base_uri": "https://localhost:8080/"
        },
        "id": "nIYWJLZhIk3C",
        "outputId": "fe7feef5-d7cb-4328-d1e4-9aee82654565"
      },
      "outputs": [],
      "source": [
        "model = Network().to(device)\n",
        "criterion = nn.CrossEntropyLoss()\n",
        "\n",
        "\n",
        "num_epochs = 200\n",
        "learning_rate = 1e-4\n",
        "weight_decay = 2e-5\n",
        "optimizer = optim.Adam(model.parameters(), lr=learning_rate, weight_decay=weight_decay)\n",
        "\n",
        "\n",
        "trn_loss_hist, val_loss_hist, trn_acc_hist, val_acc_hist = train(\n",
        "    model=model,\n",
        "    train_loader=train_loader,\n",
        "    val_loader=val_loader,\n",
        "    criterion=criterion,\n",
        "    optimizer=optimizer,\n",
        "    num_epochs=num_epochs,\n",
        "    device=device\n",
        ")\n",
        "\n",
        "# evaluate on test set\n",
        "test_accuracy = evaluate(model, test_loader, device)\n",
        "print(f\"Test Accuracy: {test_accuracy:.2f}%\")"
      ]
    },
    {
      "cell_type": "code",
      "execution_count": null,
      "metadata": {
        "id": "QOj1M0Gk6R1H"
      },
      "outputs": [],
      "source": [
        "print(model)\n",
        "\n",
        "x = np.arange(num_epochs)\n",
        "\n",
        "plt.figure()\n",
        "plt.plot(x, trn_acc_hist)\n",
        "plt.plot(x, val_acc_hist)\n",
        "plt.legend(['Training', 'Validation'])\n",
        "plt.xticks(range(0, num_epochs, 10))\n",
        "plt.xlabel('Epoch')\n",
        "plt.ylabel('Accuracy')\n",
        "plt.title('fer2013 Classification')\n",
        "plt.gcf().set_size_inches(10, 5)\n",
        "plt.savefig('part1.png', dpi=300)\n",
        "plt.show()\n",
        "\n",
        "\n",
        "plt.figure(figsize=(8, 5))\n",
        "plt.plot(trn_loss_hist, label='Training Loss', marker='o')\n",
        "plt.title('Training Loss Over Epochs')\n",
        "plt.xlabel('Epochs')\n",
        "plt.ylabel('Loss')\n",
        "plt.legend()\n",
        "plt.grid(True)\n",
        "plt.show()\n",
        "\n",
        "\n"
      ]
    },
    {
      "cell_type": "code",
      "execution_count": 49,
      "metadata": {
        "colab": {
          "base_uri": "https://localhost:8080/",
          "height": 17
        },
        "id": "6MzF7_paies0",
        "outputId": "642e7fcb-cf04-425e-8f51-125315c2477e"
      },
      "outputs": [
        {
          "data": {
            "application/javascript": "\n    async function download(id, filename, size) {\n      if (!google.colab.kernel.accessAllowed) {\n        return;\n      }\n      const div = document.createElement('div');\n      const label = document.createElement('label');\n      label.textContent = `Downloading \"${filename}\": `;\n      div.appendChild(label);\n      const progress = document.createElement('progress');\n      progress.max = size;\n      div.appendChild(progress);\n      document.body.appendChild(div);\n\n      const buffers = [];\n      let downloaded = 0;\n\n      const channel = await google.colab.kernel.comms.open(id);\n      // Send a message to notify the kernel that we're ready.\n      channel.send({})\n\n      for await (const message of channel.messages) {\n        // Send a message to notify the kernel that we're ready.\n        channel.send({})\n        if (message.buffers) {\n          for (const buffer of message.buffers) {\n            buffers.push(buffer);\n            downloaded += buffer.byteLength;\n            progress.value = downloaded;\n          }\n        }\n      }\n      const blob = new Blob(buffers, {type: 'application/binary'});\n      const a = document.createElement('a');\n      a.href = window.URL.createObjectURL(blob);\n      a.download = filename;\n      div.appendChild(a);\n      a.click();\n      div.remove();\n    }\n  ",
            "text/plain": [
              "<IPython.core.display.Javascript object>"
            ]
          },
          "metadata": {},
          "output_type": "display_data"
        },
        {
          "data": {
            "application/javascript": "download(\"download_034bda4c-2982-4724-a84e-a63ed0225263\", \"complete_model.pth\", 13358290)",
            "text/plain": [
              "<IPython.core.display.Javascript object>"
            ]
          },
          "metadata": {},
          "output_type": "display_data"
        }
      ],
      "source": [
        "\n",
        "torch.save(model, 'complete_model.pth')\n",
        "files.download('complete_model.pth')"
      ]
    }
  ],
  "metadata": {
    "accelerator": "GPU",
    "colab": {
      "provenance": []
    },
    "kernelspec": {
      "display_name": "Python 3",
      "language": "python",
      "name": "python3"
    },
    "language_info": {
      "codemirror_mode": {
        "name": "ipython",
        "version": 3
      },
      "file_extension": ".py",
      "mimetype": "text/x-python",
      "name": "python",
      "nbconvert_exporter": "python",
      "pygments_lexer": "ipython3",
      "version": "3.10.10"
    },
    "vscode": {
      "interpreter": {
        "hash": "9d34995e9b9aacf7236904ea7ddf7585a36f6be47e873dd30641939c3248d078"
      }
    }
  },
  "nbformat": 4,
  "nbformat_minor": 0
}
